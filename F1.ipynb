{
 "cells": [
  {
   "cell_type": "markdown",
   "id": "4dd82a45",
   "metadata": {},
   "source": [
    "# Föreläsning 1"
   ]
  },
  {
   "cell_type": "markdown",
   "id": "265527fe",
   "metadata": {},
   "source": [
    "## Exempel 1"
   ]
  },
  {
   "cell_type": "markdown",
   "id": "9a905dc5",
   "metadata": {},
   "source": [
    "Konstruera ett interpolationspolynom $p(x)$ som går genom följande punkter:"
   ]
  },
  {
   "cell_type": "markdown",
   "id": "d90fe89b",
   "metadata": {},
   "source": [
    "$$ \\left[ \\begin{array}{c|cccc} x & 1 & 2 & 3 & 4 \\\\ y & 1 & 2 & 1 & 2 \\end{array} \\right]$$"
   ]
  },
  {
   "cell_type": "markdown",
   "id": "bd01ff9f",
   "metadata": {},
   "source": [
    "Använd naiv ansats: $p(x) = c_0 + c_1 x + c_2 x^2 + c_3 x^3$"
   ]
  },
  {
   "cell_type": "markdown",
   "id": "4770f373",
   "metadata": {},
   "source": [
    "Pythonkod:"
   ]
  },
  {
   "cell_type": "code",
   "execution_count": 38,
   "id": "4f90de3b",
   "metadata": {},
   "outputs": [
    {
     "name": "stdout",
     "output_type": "stream",
     "text": [
      "x =  [1 2 3 4]\n",
      "y =  [1 2 1 2]\n",
      "(4,)\n",
      "A =  [[ 1.  1.  1.  1.]\n",
      " [ 1.  2.  4.  8.]\n",
      " [ 1.  3.  9. 27.]\n",
      " [ 1.  4. 16. 64.]]\n",
      "(4, 4)\n",
      "[1 2 3 4]\n",
      "0.6666666666666667\n"
     ]
    },
    {
     "data": {
      "text/plain": [
       "(4,)"
      ]
     },
     "execution_count": 38,
     "metadata": {},
     "output_type": "execute_result"
    }
   ],
   "source": [
    "import numpy as np\n",
    "# Skapa vektorer motsvarande x- och y-datapunkter \n",
    "x = np.array([1, 2, 3, 4])\n",
    "y = np.array([1, 2, 1, 2])\n",
    "print('x = ',x)\n",
    "print('y = ',y)\n",
    "print(np.shape(y))\n",
    "# Skapa en vektor med ettor\n",
    "ettor = np.ones(np.shape(x))\n",
    "# Skapa en matris och transponerar den (.T)\n",
    "A = np.array([ettor,x,x**2,x**3]).T\n",
    "print('A = ',A)\n",
    "print(np.shape(A))\n",
    "# Lös systemet\n",
    "c = np.linalg.solve(A,y)\n",
    "print(x)\n",
    "# Identifiera koefficienterna\n",
    "c0 = c[0]\n",
    "c1 = c[1]\n",
    "c2 = c[2]\n",
    "c3 = c[3]\n",
    "print(c3)\n",
    "# Definiera polynomet som en anonym funktion\n",
    "pol1 = lambda c,x: c[0] + c[1]*x + c[2]*x**2 + c[3]*x**3 \n",
    "xfine = np.linspace(1.0, 4.0, num=100)\n",
    "# Evaluate polynomial at many points for plotting\n",
    "yfine = pol1(c,xfine)\n",
    "np.size(pol1(c,xfine))\n",
    "np.shape(x)"
   ]
  },
  {
   "cell_type": "markdown",
   "id": "3134ef1c",
   "metadata": {},
   "source": [
    "Plotta polynomet och datapunkterna - polynomet ska gå igenom punkterna!"
   ]
  },
  {
   "cell_type": "code",
   "execution_count": 39,
   "id": "bfea77df",
   "metadata": {},
   "outputs": [
    {
     "data": {
      "image/png": "[encoded data removed]",
      "text/plain": [
       "<Figure size 640x480 with 1 Axes>"
      ]
     },
     "metadata": {},
     "output_type": "display_data"
    }
   ],
   "source": [
    "import matplotlib.pyplot as plt\n",
    "plt.plot(x,y,'*')\n",
    "plt.plot(xfine,yfine)\n",
    "# namnge x-axel, y-axel och titel\n",
    "plt.xlabel('x - axis')\n",
    "plt.ylabel('y - axis')\n",
    "plt.title('Interpolation polynomial and data')\n",
    "plt.show()"
   ]
  },
  {
   "cell_type": "markdown",
   "id": "6bb3ced6",
   "metadata": {},
   "source": [
    "Testa själv:\n",
    "1. Ändra \n",
    "2. Kör koden igen "
   ]
  },
  {
   "cell_type": "markdown",
   "id": "5b31b01d",
   "metadata": {},
   "source": [
    "## Exempel 2"
   ]
  },
  {
   "cell_type": "markdown",
   "id": "8a10f443",
   "metadata": {},
   "source": [
    "Konstruera ett interpolationspolynom $q(x)$ som går genom samma punkter som ovan. \n",
    "Använd Newtons ansats: $$q(x) = b_0 + b_1 (x-x_1)+ b_2 (x-x_1)(x-x_2) + b_3(x-x_1)(x-x_2)(x-x_3)$$"
   ]
  },
  {
   "cell_type": "code",
   "execution_count": 55,
   "id": "ba42b3df",
   "metadata": {},
   "outputs": [
    {
     "name": "stdout",
     "output_type": "stream",
     "text": [
      "(4, 4)\n",
      "A: [[ 1.  1.  1.  1.]\n",
      " [ 1.  2.  4.  8.]\n",
      " [ 1.  3.  9. 27.]\n",
      " [ 1.  4. 16. 64.]]\n"
     ]
    }
   ],
   "source": [
    "# Skapa en matris och transponerar den (.T)\n",
    "A = np.array([ettor,x,x**2,x**3]).T  # ändra till Newtons ansats\n",
    "print(np.shape(A))\n",
    "print('A:', A)"
   ]
  },
  {
   "cell_type": "code",
   "execution_count": null,
   "id": "83b91efe",
   "metadata": {},
   "outputs": [],
   "source": []
  }
 ],
 "metadata": {
  "kernelspec": {
   "display_name": "Python 3 (ipykernel)",
   "language": "python",
   "name": "python3"
  },
  "language_info": {
   "codemirror_mode": {
    "name": "ipython",
    "version": 3
   },
   "file_extension": ".py",
   "mimetype": "text/x-python",
   "name": "python",
   "nbconvert_exporter": "python",
   "pygments_lexer": "ipython3",
   "version": "3.11.5"
  }
 },
 "nbformat": 4,
 "nbformat_minor": 5
}
